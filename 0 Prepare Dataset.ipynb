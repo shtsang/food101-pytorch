{
 "cells": [
  {
   "cell_type": "code",
   "execution_count": 1,
   "id": "perfect-insertion",
   "metadata": {},
   "outputs": [],
   "source": [
    "from collections import defaultdict\n",
    "from shutil import copy\n",
    "import os\n",
    "import gc"
   ]
  },
  {
   "cell_type": "code",
   "execution_count": 2,
   "id": "developmental-cardiff",
   "metadata": {},
   "outputs": [],
   "source": [
    "# Helper method to split dataset into train and test folders\n",
    "def prepare_data(filepath, src, dest):\n",
    "  classes_images = defaultdict(list)\n",
    "  with open(filepath, 'r') as txt:\n",
    "      paths = [read.strip() for read in txt.readlines()]\n",
    "      for p in paths:\n",
    "        food = p.split('/')\n",
    "        classes_images[food[0]].append(food[1] + '.jpg')\n",
    "\n",
    "  for food in classes_images.keys():\n",
    "    if not os.path.exists(os.path.join(dest,food)):\n",
    "      os.makedirs(os.path.join(dest,food))\n",
    "    for i in classes_images[food]:\n",
    "      copy(os.path.join(src,food,i), os.path.join(dest,food,i))\n",
    "  print(\"Copying Done!\")"
   ]
  },
  {
   "cell_type": "code",
   "execution_count": 4,
   "id": "sized-landscape",
   "metadata": {},
   "outputs": [
    {
     "name": "stdout",
     "output_type": "stream",
     "text": [
      "Creating train data...\n",
      "Copying Done!\n"
     ]
    }
   ],
   "source": [
    "print(\"Creating train data...\")\n",
    "prepare_data('./data/meta/train.txt', './data/images', './data/default_train_test/train')"
   ]
  },
  {
   "cell_type": "code",
   "execution_count": 5,
   "id": "blind-assessment",
   "metadata": {},
   "outputs": [
    {
     "name": "stdout",
     "output_type": "stream",
     "text": [
      "Creating test data...\n",
      "Copying Done!\n"
     ]
    }
   ],
   "source": [
    "print(\"Creating test data...\")\n",
    "prepare_data('./data/meta/test.txt', './data/images', './data/default_train_test/test')"
   ]
  },
  {
   "cell_type": "code",
   "execution_count": 11,
   "id": "acting-spending",
   "metadata": {},
   "outputs": [
    {
     "name": "stdout",
     "output_type": "stream",
     "text": [
      "Total number of samples in train folder\n",
      "75750\n",
      "Total number of samples in test folder\n",
      "25250\n"
     ]
    }
   ],
   "source": [
    "print(\"Total number of samples in train folder\")\n",
    "!find './data/default_train_test/train' -type d -or -type f -printf '.' | wc -c\n",
    "\n",
    "print(\"Total number of samples in test folder\")\n",
    "!find './data/default_train_test/test' -type d -or -type f -printf '.' | wc -c"
   ]
  }
 ],
 "metadata": {
  "kernelspec": {
   "display_name": "Python 3",
   "language": "python",
   "name": "python3"
  },
  "language_info": {
   "codemirror_mode": {
    "name": "ipython",
    "version": 3
   },
   "file_extension": ".py",
   "mimetype": "text/x-python",
   "name": "python",
   "nbconvert_exporter": "python",
   "pygments_lexer": "ipython3",
   "version": "3.7.10"
  }
 },
 "nbformat": 4,
 "nbformat_minor": 5
}
